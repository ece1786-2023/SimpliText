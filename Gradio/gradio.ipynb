{
  "nbformat": 4,
  "nbformat_minor": 0,
  "metadata": {
    "colab": {
      "provenance": []
    },
    "kernelspec": {
      "name": "python3",
      "display_name": "Python 3"
    },
    "language_info": {
      "name": "python"
    }
  },
  "cells": [
    {
      "cell_type": "code",
      "execution_count": null,
      "metadata": {
        "id": "CYj1hDtuzsgG"
      },
      "outputs": [],
      "source": [
        "!pip install gradio"
      ]
    },
    {
      "cell_type": "code",
      "source": [
        "!pip install wordfreq"
      ],
      "metadata": {
        "id": "lU1Hvmn81kYk"
      },
      "execution_count": null,
      "outputs": []
    },
    {
      "cell_type": "code",
      "source": [
        "!pip install openai"
      ],
      "metadata": {
        "id": "_rQvbg7B1xrP"
      },
      "execution_count": null,
      "outputs": []
    },
    {
      "cell_type": "code",
      "source": [
        "import gradio as gr\n",
        "from simplification import output\n",
        "from summarization import summary\n",
        "from explanation import explain\n",
        "\n",
        "def ece1786(Sentence, Simplification, Summarization, Explanation):\n",
        "\n",
        "  sim = output(Sentence) if Simplification else None\n",
        "  sum = summary(Sentence) if Summarization else None\n",
        "  exp = explain(Sentence) if Explanation else None\n",
        "\n",
        "  return sim, sum, exp\n",
        "\n",
        "project = gr.Interface(\n",
        "    fn=ece1786,\n",
        "    inputs=[gr.Textbox(lines=10, placeholder=\"Type here the sentences...\"), \"checkbox\", \"checkbox\", \"checkbox\"],\n",
        "    outputs=[gr.Textbox(label='Simplification'), gr.Textbox(label='Summarization'), gr.Textbox(label='Explanation')]\n",
        ")"
      ],
      "metadata": {
        "id": "82moirc2z7Nr"
      },
      "execution_count": 19,
      "outputs": []
    },
    {
      "cell_type": "code",
      "source": [
        "project.launch()"
      ],
      "metadata": {
        "colab": {
          "base_uri": "https://localhost:8080/",
          "height": 648
        },
        "id": "WuAndm-TJBba",
        "outputId": "f554d3b3-8143-4e54-d03c-5d3fd1117e8e"
      },
      "execution_count": 20,
      "outputs": [
        {
          "output_type": "stream",
          "name": "stdout",
          "text": [
            "Setting queue=True in a Colab notebook requires sharing enabled. Setting `share=True` (you can turn this off by setting `share=False` in `launch()` explicitly).\n",
            "\n",
            "Colab notebook detected. To show errors in colab notebook, set debug=True in launch()\n",
            "Running on public URL: https://61241971cb61582f0f.gradio.live\n",
            "\n",
            "This share link expires in 72 hours. For free permanent hosting and GPU upgrades, run `gradio deploy` from Terminal to deploy to Spaces (https://huggingface.co/spaces)\n"
          ]
        },
        {
          "output_type": "display_data",
          "data": {
            "text/plain": [
              "<IPython.core.display.HTML object>"
            ],
            "text/html": [
              "<div><iframe src=\"https://61241971cb61582f0f.gradio.live\" width=\"100%\" height=\"500\" allow=\"autoplay; camera; microphone; clipboard-read; clipboard-write;\" frameborder=\"0\" allowfullscreen></iframe></div>"
            ]
          },
          "metadata": {}
        },
        {
          "output_type": "execute_result",
          "data": {
            "text/plain": []
          },
          "metadata": {},
          "execution_count": 20
        }
      ]
    }
  ]
}